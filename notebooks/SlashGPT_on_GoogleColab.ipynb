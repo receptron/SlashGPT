{
 "cells": [
  {
   "cell_type": "markdown",
   "metadata": {},
   "source": [
    "## Initial Setup\n",
    "### STEP 1/2: Configure the API KEY issued by OpenAI\n",
    "### STEP 2/2: Specify the Path for Google Drive\n",
    "- ※ If you do not want to save it to your own Google Drive, please proceed as is.\n",
    "- If you wish to save it, please make the following two modifications:\n",
    "  - Enable the commented-out section here:\n",
    "    ```\n",
    "    # from google.colab import drive\n",
    "    # drive.mount(\"/content/drive\")\n",
    "    ```\n",
    "  - Specify the working folder in your Google Drive.\n",
    "    The path for Google Drive https://drive.google.com/drive/u/0/my-drive/ is '/content/drive/MyDrive/'."
   ]
  },
  {
   "cell_type": "markdown",
   "metadata": {},
   "source": [
    "## 初期設定 \n",
    "### STEP 1/2: OpenAI から発行された API KEY を設定する\n",
    "### STEP 2/2: Google Drive の Path を指定する\n",
    "- ※ ご自身の Google Drive に保存しない場合はこのまま実行してください。\n",
    "- 保存したい場合は、以下2点を修正してください。\n",
    "  - こちらのコメントアウト部分を有効に変更してください  \n",
    "    ```\n",
    "    # from google.colab import drive\n",
    "    # drive.mount(\"/content/drive\")\n",
    "    working_directory = \"/content/\"  # + \"drive/MyDrive/\"\n",
    "    ```\n",
    "  - Google Drive の作業フォルダを指定してください。  \n",
    "    Google Drive https://drive.google.com/drive/u/0/my-drive のパスは '/content/drive/MyDrive/' です"
   ]
  },
  {
   "cell_type": "markdown",
   "metadata": {},
   "source": [
    "## This is the executable file from here\n",
    "## ここから実行ファイルです"
   ]
  },
  {
   "cell_type": "code",
   "execution_count": null,
   "metadata": {
    "id": "tTP5SLIkgz4v"
   },
   "outputs": [],
   "source": [
    "## STEP 2/2: Specify the Path for Google Drive\n",
    "## STEP 2/2 :Google Drive の Path を指定する\n",
    "\n",
    "# from google.colab import drive\n",
    "# drive.mount(\"/content/drive\")\n",
    "\n",
    "working_directory = \"/content/\"  # + \"drive/MyDrive/\"\n",
    "%cd $working_directory"
   ]
  },
  {
   "cell_type": "code",
   "execution_count": null,
   "metadata": {
    "id": "5z4L10wfhCl1"
   },
   "outputs": [],
   "source": [
    "!git clone https://github.com/snakajima/SlashGPT"
   ]
  },
  {
   "cell_type": "code",
   "execution_count": null,
   "metadata": {
    "id": "uiO3GYwOhD2R"
   },
   "outputs": [],
   "source": [
    "%cd SlashGPT"
   ]
  },
  {
   "cell_type": "code",
   "execution_count": null,
   "metadata": {
    "id": "rA3GDbH9hFAO"
   },
   "outputs": [],
   "source": [
    "%pip install -r requirements.txt"
   ]
  },
  {
   "cell_type": "code",
   "execution_count": null,
   "metadata": {
    "id": "sKTMoET_hGEu"
   },
   "outputs": [],
   "source": [
    "## STEP 1/2: Configure the API KEY issued by OpenAI\n",
    "## STEP 1/2: OpenAI から発行された API KEY を設定する\n",
    "\n",
    "## English\n",
    "## Create a .env file and register OPENAI_API_KEY\n",
    "## Replace xxx with the API KEY issued by OpenAI\n",
    "## https://platform.openai.com/account/api-keys\n",
    "\n",
    "## Japanese\n",
    "## .env を作成し、OPENAI_API_KEY を登録する\n",
    "## xxx を OpenAI から発行された API KEY に変更してください\n",
    "## https://platform.openai.com/account/api-keys\n",
    "\n",
    "!touch .env\n",
    "!echo OPENAI_API_KEY=xxx >> .env"
   ]
  },
  {
   "cell_type": "code",
   "execution_count": null,
   "metadata": {
    "id": "MdCWCFs_hL0a"
   },
   "outputs": [],
   "source": [
    "## Load Environment Variables\n",
    "## 環境変数を読み込みます\n",
    "\n",
    "## English\n",
    "## Reference Materials\n",
    "## https://note.com/ayu_smartlife/n/n64a10dd5f901\n",
    "\n",
    "## Japanese\n",
    "## 参考資料\n",
    "## https://note.com/ayu_smartlife/n/n64a10dd5f901\n",
    "\n",
    "import os\n",
    "from dotenv import load_dotenv\n",
    "import openai\n",
    "\n",
    "os.chdir(working_directory + \"/SlashGPT/\")\n",
    "load_dotenv()\n",
    "openai.api_key = os.environ[\"OPENAI_API_KEY\"]"
   ]
  },
  {
   "cell_type": "code",
   "execution_count": null,
   "metadata": {
    "id": "y36SqdpAhOJh"
   },
   "outputs": [],
   "source": [
    "%run SlashGPT.py"
   ]
  }
 ],
 "metadata": {
  "colab": {
   "provenance": []
  },
  "kernelspec": {
   "display_name": "Python 3",
   "name": "python3"
  },
  "language_info": {
   "name": "python"
  }
 },
 "nbformat": 4,
 "nbformat_minor": 0
}
